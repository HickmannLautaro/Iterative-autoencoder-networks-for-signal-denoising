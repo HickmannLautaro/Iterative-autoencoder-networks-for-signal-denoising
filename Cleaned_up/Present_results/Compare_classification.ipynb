{
 "cells": [
  {
   "cell_type": "code",
   "execution_count": 1,
   "metadata": {
    "pycharm": {
     "is_executing": false
    }
   },
   "outputs": [],
   "source": [
    "%load_ext autoreload\n",
    "%autoreload 2"
   ]
  },
  {
   "cell_type": "code",
   "execution_count": 2,
   "metadata": {
    "pycharm": {
     "is_executing": false
    }
   },
   "outputs": [],
   "source": [
    "import sys\n",
    "sys.path.append('.')\n",
    "from datetime import datetime\n",
    "import numpy as np\n",
    "import matplotlib.pyplot as plt\n",
    "\n",
    "import pandas as pd\n",
    "\n",
    "import incense\n",
    "from incense import ExperimentLoader\n",
    "from cycler import cycler\n"
   ]
  },
  {
   "cell_type": "markdown",
   "metadata": {},
   "source": [
    "## Finding experiments\n",
    "\n",
    "To use `incense` we first have to instantiate an experiment loader that will enable us to query the database for specific runs."
   ]
  },
  {
   "cell_type": "code",
   "execution_count": 3,
   "metadata": {
    "pycharm": {
     "is_executing": false
    }
   },
   "outputs": [],
   "source": [
    "loader = ExperimentLoader(\n",
    "    mongo_uri=\"mongodb://localhost:27017\", \n",
    "    db_name='sacred'\n",
    ")"
   ]
  },
  {
   "cell_type": "code",
   "execution_count": 4,
   "metadata": {
    "pycharm": {
     "is_executing": false
    }
   },
   "outputs": [],
   "source": [
    "query = {\"$and\": [\n",
    "            {\"config.autoencoder_type\": \"Over_dim_tied_iteration\"},\n",
    "           \n",
    "        ]}\n",
    "experiments=loader.find(query)"
   ]
  },
  {
   "cell_type": "code",
   "execution_count": 5,
   "metadata": {
    "pycharm": {
     "is_executing": false
    }
   },
   "outputs": [
    {
     "data": {
      "text/plain": [
       "QuerySet([Experiment(id=58, name=autoencoder_test), Experiment(id=59, name=autoencoder_test), Experiment(id=60, name=autoencoder_test), Experiment(id=61, name=autoencoder_test), Experiment(id=62, name=autoencoder_test), Experiment(id=63, name=autoencoder_test), Experiment(id=64, name=autoencoder_test), Experiment(id=65, name=autoencoder_test)])"
      ]
     },
     "execution_count": 5,
     "metadata": {},
     "output_type": "execute_result"
    }
   ],
   "source": [
    "experiments"
   ]
  },
  {
   "cell_type": "code",
   "execution_count": 6,
   "metadata": {
    "pycharm": {
     "is_executing": false
    }
   },
   "outputs": [
    {
     "data": {
      "text/plain": [
       "pmap({'targets_type': 'Mnist', 'seed': 569721062, 'autoencoder_type': 'Over_dim_tied_iteration', 'epochs': 250, 'iteration': False, 'batch_size': 256})"
      ]
     },
     "execution_count": 6,
     "metadata": {},
     "output_type": "execute_result"
    }
   ],
   "source": [
    "experiments[0].config"
   ]
  },
  {
   "cell_type": "code",
   "execution_count": 7,
   "metadata": {},
   "outputs": [
    {
     "data": {
      "text/plain": [
       "dict_keys(['loss_autoencoder', 'accuracy_autoencoder', 'mean_absolute_error_autoencoder', 'val_loss_autoencoder', 'val_accuracy_autoencoder', 'val_mean_absolute_error_autoencoder', 'loss_feature_classifier', 'accuracy_feature_classifier', 'val_loss_feature_classifier', 'val_accuracy_feature_classifier', 'loss_in_classifier', 'accuracy_in_classifier', 'val_loss_in_classifier', 'val_accuracy_in_classifier', 'loss_out_classifier', 'accuracy_out_classifier', 'val_loss_out_classifier', 'val_accuracy_out_classifier'])"
      ]
     },
     "execution_count": 7,
     "metadata": {},
     "output_type": "execute_result"
    }
   ],
   "source": [
    "experiments[0].metrics.keys()"
   ]
  },
  {
   "cell_type": "code",
   "execution_count": 8,
   "metadata": {
    "pycharm": {
     "is_executing": false
    }
   },
   "outputs": [
    {
     "data": {
      "text/html": [
       "<div>\n",
       "<style scoped>\n",
       "    .dataframe tbody tr th:only-of-type {\n",
       "        vertical-align: middle;\n",
       "    }\n",
       "\n",
       "    .dataframe tbody tr th {\n",
       "        vertical-align: top;\n",
       "    }\n",
       "\n",
       "    .dataframe thead th {\n",
       "        text-align: right;\n",
       "    }\n",
       "</style>\n",
       "<table border=\"1\" class=\"dataframe\">\n",
       "  <thead>\n",
       "    <tr style=\"text-align: right;\">\n",
       "      <th></th>\n",
       "      <th>targets_type</th>\n",
       "      <th>iteration</th>\n",
       "      <th>autoencoder_type</th>\n",
       "      <th>batch_size</th>\n",
       "    </tr>\n",
       "    <tr>\n",
       "      <th>exp_id</th>\n",
       "      <th></th>\n",
       "      <th></th>\n",
       "      <th></th>\n",
       "      <th></th>\n",
       "    </tr>\n",
       "  </thead>\n",
       "  <tbody>\n",
       "    <tr>\n",
       "      <th>58</th>\n",
       "      <td>Mnist</td>\n",
       "      <td>False</td>\n",
       "      <td>Over_dim_tied_iteration</td>\n",
       "      <td>256</td>\n",
       "    </tr>\n",
       "    <tr>\n",
       "      <th>59</th>\n",
       "      <td>Mnist</td>\n",
       "      <td>False</td>\n",
       "      <td>Over_dim_tied_iteration</td>\n",
       "      <td>128</td>\n",
       "    </tr>\n",
       "    <tr>\n",
       "      <th>60</th>\n",
       "      <td>Mnist</td>\n",
       "      <td>False</td>\n",
       "      <td>Over_dim_tied_iteration</td>\n",
       "      <td>64</td>\n",
       "    </tr>\n",
       "    <tr>\n",
       "      <th>61</th>\n",
       "      <td>Mnist</td>\n",
       "      <td>False</td>\n",
       "      <td>Over_dim_tied_iteration</td>\n",
       "      <td>32</td>\n",
       "    </tr>\n",
       "    <tr>\n",
       "      <th>62</th>\n",
       "      <td>10_Targets</td>\n",
       "      <td>False</td>\n",
       "      <td>Over_dim_tied_iteration</td>\n",
       "      <td>256</td>\n",
       "    </tr>\n",
       "    <tr>\n",
       "      <th>63</th>\n",
       "      <td>10_Targets</td>\n",
       "      <td>False</td>\n",
       "      <td>Over_dim_tied_iteration</td>\n",
       "      <td>128</td>\n",
       "    </tr>\n",
       "    <tr>\n",
       "      <th>64</th>\n",
       "      <td>10_Targets</td>\n",
       "      <td>False</td>\n",
       "      <td>Over_dim_tied_iteration</td>\n",
       "      <td>64</td>\n",
       "    </tr>\n",
       "    <tr>\n",
       "      <th>65</th>\n",
       "      <td>10_Targets</td>\n",
       "      <td>False</td>\n",
       "      <td>Over_dim_tied_iteration</td>\n",
       "      <td>32</td>\n",
       "    </tr>\n",
       "  </tbody>\n",
       "</table>\n",
       "</div>"
      ],
      "text/plain": [
       "       targets_type  iteration         autoencoder_type  batch_size\n",
       "exp_id                                                             \n",
       "58            Mnist      False  Over_dim_tied_iteration         256\n",
       "59            Mnist      False  Over_dim_tied_iteration         128\n",
       "60            Mnist      False  Over_dim_tied_iteration          64\n",
       "61            Mnist      False  Over_dim_tied_iteration          32\n",
       "62       10_Targets      False  Over_dim_tied_iteration         256\n",
       "63       10_Targets      False  Over_dim_tied_iteration         128\n",
       "64       10_Targets      False  Over_dim_tied_iteration          64\n",
       "65       10_Targets      False  Over_dim_tied_iteration          32"
      ]
     },
     "execution_count": 8,
     "metadata": {},
     "output_type": "execute_result"
    }
   ],
   "source": [
    "df=experiments.project(on=[\"config.targets_type\",\"config.targets_type\", \"config.iteration\", \"config.autoencoder_type\", \"config.batch_size\"])\n",
    "df"
   ]
  },
  {
   "cell_type": "code",
   "execution_count": 9,
   "metadata": {
    "pycharm": {
     "is_executing": false
    }
   },
   "outputs": [],
   "source": [
    "def print_imm(imgs,name):\n",
    "    n = len(imgs[0]) # how many digits we will display\n",
    "    if name:\n",
    "        plt.figure(figsize=(2,0.5))\n",
    "        plt.text(0.1, 0.1, name, fontsize=12) \n",
    "        plt.show()\n",
    "    plt.figure(figsize=(2*len(imgs[0]), 2 * len(imgs) + 2))\n",
    "    for i in range(n):\n",
    "        for j in range(len(imgs)):\n",
    "            # display original\n",
    "            ax = plt.subplot(len(imgs), n, i + 1 + j * n)\n",
    "            \n",
    "            plt.imshow(imgs[j][i].reshape(28, 28))\n",
    "            \n",
    "            plt.gray()\n",
    "            ax.get_xaxis().set_visible(False)\n",
    "            ax.get_yaxis().set_visible(False)\n",
    "\n",
    "    plt.show()"
   ]
  },
  {
   "cell_type": "code",
   "execution_count": 18,
   "metadata": {
    "pycharm": {
     "is_executing": false
    }
   },
   "outputs": [],
   "source": [
    "def compare(data):\n",
    "    evaluations_feature_classifier=[]\n",
    "    autoencoder=[]\n",
    "    \n",
    "    \n",
    "    df = pd.DataFrame(\n",
    "    [exp.id,pd.read_pickle(exp.artifacts[data].as_type(incense.artifact.PickleArtifact).file,compression='gzip')['evaluations_feature_classifier']] for exp in experiments\n",
    "    )\n",
    "    \n",
    "#     for exp in experiments:\n",
    "#           predictions=[]\n",
    "#           pickle_artifact=[]\n",
    "#         #print(exp.id,exp.config)\n",
    "#         pickle_artifact = exp.artifacts[data].as_type(incense.artifact.PickleArtifact)\n",
    "#         predictions=pd.read_pickle(pickle_artifact.file,compression='gzip')\n",
    "        \n",
    "#         evaluations_feature_classifier.append(predictions['evaluations_feature_classifier'])        \n",
    "\n",
    "#     print(data)\n",
    "#     names=[]\n",
    "#     for exp in experiments:\n",
    "#         names.append(exp.id)\n",
    "#     df = pd.DataFrame(data=evaluations_feature_classifier)\n",
    "    return df\n",
    "    \n",
    "    "
   ]
  },
  {
   "cell_type": "code",
   "execution_count": 11,
   "metadata": {
    "pycharm": {
     "is_executing": false
    }
   },
   "outputs": [],
   "source": [
    "#name_list=['predictions_df_0','predictions_df_10','predictions_df_20','predictions_df_30','predictions_df_40','predictions_df_50','predictions_df_60','predictions_df_70','predictions_df_80','predictions_df_90','predictions_df_100']\n",
    "name_list=['predictions_df_0']"
   ]
  },
  {
   "cell_type": "code",
   "execution_count": 19,
   "metadata": {
    "pycharm": {
     "is_executing": false
    }
   },
   "outputs": [],
   "source": [
    "test_df= compare('predictions_df_0')"
   ]
  },
  {
   "cell_type": "code",
   "execution_count": 24,
   "metadata": {},
   "outputs": [
    {
     "ename": "SyntaxError",
     "evalue": "invalid syntax (<ipython-input-24-29724715893e>, line 1)",
     "output_type": "error",
     "traceback": [
      "\u001b[0;36m  File \u001b[0;32m\"<ipython-input-24-29724715893e>\"\u001b[0;36m, line \u001b[0;32m1\u001b[0m\n\u001b[0;31m    test_df['0'=58]\u001b[0m\n\u001b[0m               ^\u001b[0m\n\u001b[0;31mSyntaxError\u001b[0m\u001b[0;31m:\u001b[0m invalid syntax\n"
     ]
    }
   ],
   "source": [
    "test_df['0'=58]"
   ]
  }
 ],
 "metadata": {
  "kernelspec": {
   "display_name": "Python 3",
   "language": "python",
   "name": "python3"
  },
  "language_info": {
   "codemirror_mode": {
    "name": "ipython",
    "version": 3
   },
   "file_extension": ".py",
   "mimetype": "text/x-python",
   "name": "python",
   "nbconvert_exporter": "python",
   "pygments_lexer": "ipython3",
   "version": "3.7.4"
  },
  "pycharm": {
   "stem_cell": {
    "cell_type": "raw",
    "metadata": {
     "collapsed": false
    },
    "source": []
   }
  }
 },
 "nbformat": 4,
 "nbformat_minor": 4
}
